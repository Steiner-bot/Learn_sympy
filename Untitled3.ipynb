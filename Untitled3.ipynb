{
  "nbformat": 4,
  "nbformat_minor": 0,
  "metadata": {
    "colab": {
      "name": "Untitled3.ipynb",
      "provenance": [],
      "collapsed_sections": [],
      "authorship_tag": "ABX9TyOCDCgiCQ6CGx3OY54JYSVp",
      "include_colab_link": true
    },
    "kernelspec": {
      "name": "python3",
      "display_name": "Python 3"
    },
    "language_info": {
      "name": "python"
    }
  },
  "cells": [
    {
      "cell_type": "markdown",
      "metadata": {
        "id": "view-in-github",
        "colab_type": "text"
      },
      "source": [
        "<a href=\"https://colab.research.google.com/github/Steiner-bot/Learn_sympy/blob/main/Untitled3.ipynb\" target=\"_parent\"><img src=\"https://colab.research.google.com/assets/colab-badge.svg\" alt=\"Open In Colab\"/></a>"
      ]
    },
    {
      "cell_type": "code",
      "metadata": {
        "id": "vLOHRJg-_zxL"
      },
      "source": [
        "from IPython.display import display, Math"
      ],
      "execution_count": 9,
      "outputs": []
    },
    {
      "cell_type": "code",
      "metadata": {
        "id": "fc1WpDM3_3b2"
      },
      "source": [
        "def add(x, y):\n",
        "  return ['+', x, y]\n",
        "\n",
        "def sub(x, y):\n",
        "  return [\"-\", x, y]\n",
        "\n",
        "def mul(x, y):\n",
        "  return ['*', x, y]\n",
        "\n",
        "def div(x, y):\n",
        "  return [\"/\", x, y]\n",
        "\n",
        "def pow(x, y):\n",
        "  return [\"^\", x, y]\n",
        "\n",
        "def fsqrt(x):\n",
        "  return ['sqrt', x]\n",
        "\n",
        "def fln(x):\n",
        "  return ['ln', x]\n",
        "\n",
        "def flg(x):\n",
        "  return ['lg', x]\n",
        "\n",
        "def fsin(x):\n",
        "  return ['sin', x]\n",
        "\n",
        "def fcos(x):\n",
        "  return ['cos', x]\n",
        "\n",
        "def ftan(x):\n",
        "  return ['tan', x]\n",
        "\n",
        "def farcsin(x):\n",
        "  return ['arcsin', x]\n",
        "\n",
        "def farccos(x):\n",
        "  return ['arccos', x]\n",
        "\n",
        "def farctan(x):\n",
        "  return ['cos', x]\n",
        "\n",
        "def fsh(x):\n",
        "  return ['sh', x]\n",
        "\n",
        "def fch(x):\n",
        "  return ['ch', x]\n",
        "\n",
        "def fth(x):\n",
        "  return ['th', x]"
      ],
      "execution_count": 10,
      "outputs": []
    },
    {
      "cell_type": "code",
      "metadata": {
        "id": "iPs2XdnG_6Co"
      },
      "source": [
        "def check(x):\n",
        "  if isinstance(x, Expression):\n",
        "    return x\n",
        "  return Expression(x)\n",
        "\n",
        "class Expression:\n",
        "  def __init__(self, f):\n",
        "    self.f = f\n",
        "\n",
        "  def __add__(self, x):\n",
        "    x = check(x)\n",
        "    return Expression(add(self.f, x.f))\n",
        "\n",
        "  def __sub__(self, x):\n",
        "    x = check(x)\n",
        "    return Expression(sub(self.f, x.f))\n",
        "\n",
        "  def __mul__(self, x):\n",
        "    x = check(x)\n",
        "    return Expression(mul(self.f, x.f))\n",
        "\n",
        "  def __pow__(self, x):\n",
        "    x = check(x)\n",
        "    return Expression(pow(self.f, x.f))\n",
        "\n",
        "  def __radd__(self, x):\n",
        "    x = check(x)\n",
        "    return Expression(add(x.f, self.f))\n",
        "\n",
        "  def __rsub__(self, x):\n",
        "    x = check(x)\n",
        "    return Expression(sub(x.f, self.f))\n",
        "\n",
        "  def __rmul__(self, x):\n",
        "    x = check(x)\n",
        "    return Expression(mul(x.f, self.f))\n",
        "\n",
        "  def __rtruediv__(self, x):\n",
        "    x = check(x)\n",
        "    return Expression(div(x.f, self.f))\n",
        "    \n",
        "  def __rpow__(self, x):\n",
        "    x = check(x)\n",
        "    return Expression(pow(x.f, self.f))\n",
        "\n",
        "  def subs(self, var, val):\n",
        "    return Expression(substitute(self.f, var, val))"
      ],
      "execution_count": 11,
      "outputs": []
    },
    {
      "cell_type": "code",
      "metadata": {
        "id": "mbUZ1k0c_98w"
      },
      "source": [
        "def sqrt(x):\n",
        "  x = check(x)\n",
        "  t = x.f\n",
        "  r = fsqrt(t)\n",
        "  return Expression(r)\n",
        "\n",
        "def ln(x):\n",
        "  return Expression(fln(check(x).f))\n",
        "\n",
        "def log(x):\n",
        "  return Expression(flg(check(x).f))\n",
        "\n",
        "def sin(x):\n",
        "  return Expression(fsin(check(x).f))\n",
        "\n",
        "def cos(x):\n",
        "  return Expression(fcos(check(x).f))\n",
        "\n",
        "def tang(x):\n",
        "  return Expression(ftan(check(x).f))\n",
        "\n",
        "def arcsin(x):\n",
        "  return Expression(farcsin(check(x).f))\n",
        "\n",
        "def arccos(x):\n",
        "  return Expression(farccos(check(x).f))\n",
        "\n",
        "def arctang(x):\n",
        "  return Expression(farctan(check(x).f))\n",
        "\n",
        "def sh(x):\n",
        "  return Expression(fsh(check(x).f))\n",
        "\n",
        "def ch(x):\n",
        "  return Expression(fch(check(x).f))\n",
        "\n",
        "def th(x):\n",
        "  return Expression(fth(check(x).f))"
      ],
      "execution_count": 12,
      "outputs": []
    },
    {
      "cell_type": "code",
      "metadata": {
        "id": "XTePhVL8__rU"
      },
      "source": [
        "def evaluate(f):\n",
        "  if isinstance(f, (int, float)):\n",
        "    return f\n",
        "  elif isinstance(f, list):\n",
        "    if f[0] == \"+\": \n",
        "      return evaluate(f[1]) + evaluate(f[2])\n",
        "    elif f[0] == \"*\":\n",
        "      return evaluate(f[1]) * evaluate(f[2])\n",
        "    elif f[0] == \"sqrt\":\n",
        "      return math.sqrt(evaluate(f[1]))\n",
        "    elif f[0] == \"sin\":\n",
        "      return math.sin(evaluate(f[1]))\n",
        "    elif f[0] == \"cos\":\n",
        "      return math.cos(evaluate(f[1]))\n",
        "  return None"
      ],
      "execution_count": 13,
      "outputs": []
    },
    {
      "cell_type": "code",
      "metadata": {
        "id": "UKAVftDNABOo"
      },
      "source": [
        "def substitute(f, var, val):\n",
        "  val = check(val).f\n",
        "  if f == var:\n",
        "    return val\n",
        "  elif isinstance(f, list):\n",
        "    y = [f[0]]\n",
        "    for i in range(1, len(f)):\n",
        "      t = substitute(f[i], var, val)\n",
        "      y.append(t)\n",
        "    return y\n",
        "  else:\n",
        "    return f"
      ],
      "execution_count": 14,
      "outputs": []
    },
    {
      "cell_type": "code",
      "metadata": {
        "id": "VBa_j5rdABrg"
      },
      "source": [
        "def toLatex(x):\n",
        "  if isinstance(x, (int, float)):\n",
        "    return str(x)\n",
        "  if isinstance(x, str):\n",
        "    return x\n",
        "  if isinstance(x, list):\n",
        "    if x[0] == \"+\":\n",
        "      return toLatex(x[1]) + \"+\" + toLatex(x[2])\n",
        "\n",
        "    if x[0] == \"-\":\n",
        "      return toLatex(x[1]) + \"-\" + toLatex(x[2])\n",
        "\n",
        "    if x[0] == \"*\":\n",
        "      left = toLatex(x[1])\n",
        "      if isinstance(x[1], list) and x[1][0] == \"+\":\n",
        "        left = \"\\\\left(\" + left + \"\\\\right)\"\n",
        "      right = toLatex(x[2])\n",
        "      if isinstance(x[2], list) and x[2][0] == \"+\":\n",
        "        right = \"\\\\left(\" + right + \"\\\\right)\"\n",
        "      return left + \"\\\\cdot \" + right\n",
        "\n",
        "    if x[0] == \"/\":\n",
        "      return \"\\\\dfrac{\" + toLatex(x[1]) + \"}{\" + toLatex(x[2]) + \"}\"\n",
        "\n",
        "    if x[0] == \"^\":\n",
        "      left = toLatex(x[1])\n",
        "      if isinstance(x[1], list):\n",
        "        left = \"\\\\left(\" + left + \"\\\\right)\"\n",
        "      right = toLatex(x[2])\n",
        "      return \"{\" + left + \"}^{\" + right + \"}\"\n",
        "    \n",
        "    if x[0] == \"sqrt\":\n",
        "      a = toLatex(x[1])\n",
        "      return \"\\\\sqrt{\" + a + \"}\"\n",
        "\n",
        "    if x[0] == \"ln\":\n",
        "      a = toLatex(x[1])\n",
        "      if isinstance(x[1], list):\n",
        "        a = \"\\\\left(\" + a + \"\\\\right)\"\n",
        "      return \"\\\\ln{\" + a + \"}\"\n",
        "\n",
        "    if x[0] == \"log\":\n",
        "      a = toLatex(x[1])\n",
        "      if isinstance(x[1], list):\n",
        "        a = \"\\\\left(\" + a + \"\\\\right)\"\n",
        "      return \"\\\\log{\" + a + \"}\"\n",
        "\n",
        "    if x[0] == \"sin\":\n",
        "      a = toLatex(x[1])\n",
        "      if isinstance(x[1], list):\n",
        "        a = \"\\\\left(\" + a + \"\\\\right)\"\n",
        "      return \"\\\\sin{\" + a + \"}\"\n",
        "\n",
        "    if x[0] == \"cos\":\n",
        "      a = toLatex(x[1])\n",
        "      if isinstance(x[1], list):\n",
        "        a = \"\\\\left(\" + a + \"\\\\right)\"\n",
        "      return \"\\\\cos{\" + a + \"}\"\n",
        "\n",
        "    if x[0] == \"tang\":\n",
        "      a = toLatex(x[1])\n",
        "      if isinstance(x[1], list):\n",
        "        a = \"\\\\left(\" + a + \"\\\\right)\"\n",
        "      return \"\\\\tang{\" + a + \"}\"\n",
        "\n",
        "    if x[0] == \"arcsin\":\n",
        "      a = toLatex(x[1])\n",
        "      if isinstance(x[1], list):\n",
        "        a = \"\\\\left(\" + a + \"\\\\right)\"\n",
        "      return \"\\\\arcsin{\" + a + \"}\"\n",
        "\n",
        "    if x[0] == \"arccos\":\n",
        "      a = toLatex(x[1])\n",
        "      if isinstance(x[1], list):\n",
        "        a = \"\\\\left(\" + a + \"\\\\right)\"\n",
        "      return \"\\\\arccos{\" + a + \"}\"\n",
        "\n",
        "    if x[0] == \"arctang\":\n",
        "      a = toLatex(x[1])\n",
        "      if isinstance(x[1], list):\n",
        "        a = \"\\\\left(\" + a + \"\\\\right)\"\n",
        "      return \"\\\\arctang{\" + a + \"}\"\n",
        "\n",
        "    if x[0] == \"sh\":\n",
        "      a = toLatex(x[1])\n",
        "      if isinstance(x[1], list):\n",
        "        a = \"\\\\left(\" + a + \"\\\\right)\"\n",
        "      return \"\\\\sh{\" + a + \"}\"\n",
        "\n",
        "    if x[0] == \"ch\":\n",
        "      a = toLatex(x[1])\n",
        "      if isinstance(x[1], list):\n",
        "        a = \"\\\\left(\" + a + \"\\\\right)\"\n",
        "      return \"\\\\ch{\" + a + \"}\"\n",
        "\n",
        "    if x[0] == \"th\":\n",
        "      a = toLatex(x[1])\n",
        "      if isinstance(x[1], list):\n",
        "        a = \"\\\\left(\" + a + \"\\\\right)\"\n",
        "      return \"\\\\th{\" + a + \"}\""
      ],
      "execution_count": 15,
      "outputs": []
    },
    {
      "cell_type": "code",
      "metadata": {
        "colab": {
          "base_uri": "https://localhost:8080/"
        },
        "id": "E3PD5mOwAEGs",
        "outputId": "cbe95297-7773-408d-f6b2-dbecc9ba8d7b"
      },
      "source": [
        "x = Expression('x')\n",
        "y = Expression('y')\n",
        "z = x + 2 * ln(y) + sin(5) - 2\n",
        "z.f"
      ],
      "execution_count": 19,
      "outputs": [
        {
          "output_type": "execute_result",
          "data": {
            "text/plain": [
              "['-', ['+', ['+', 'x', ['*', 2, ['ln', 'y']]], ['sin', 5]], 2]"
            ]
          },
          "metadata": {
            "tags": []
          },
          "execution_count": 19
        }
      ]
    },
    {
      "cell_type": "code",
      "metadata": {
        "colab": {
          "base_uri": "https://localhost:8080/",
          "height": 163
        },
        "id": "DGeyGB0KAGD0",
        "outputId": "7f421420-3e1c-46d2-b677-f0c6955bb60f"
      },
      "source": [
        "  y.show()"
      ],
      "execution_count": 20,
      "outputs": [
        {
          "output_type": "error",
          "ename": "AttributeError",
          "evalue": "ignored",
          "traceback": [
            "\u001b[0;31m---------------------------------------------------------------------------\u001b[0m",
            "\u001b[0;31mAttributeError\u001b[0m                            Traceback (most recent call last)",
            "\u001b[0;32m<ipython-input-20-1e72897e4c5a>\u001b[0m in \u001b[0;36m<module>\u001b[0;34m()\u001b[0m\n\u001b[0;32m----> 1\u001b[0;31m \u001b[0my\u001b[0m\u001b[0;34m.\u001b[0m\u001b[0mshow\u001b[0m\u001b[0;34m(\u001b[0m\u001b[0;34m)\u001b[0m\u001b[0;34m\u001b[0m\u001b[0;34m\u001b[0m\u001b[0m\n\u001b[0m",
            "\u001b[0;31mAttributeError\u001b[0m: 'Expression' object has no attribute 'show'"
          ]
        }
      ]
    }
  ]
}