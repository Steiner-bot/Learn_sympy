{
  "nbformat": 4,
  "nbformat_minor": 0,
  "metadata": {
    "colab": {
      "name": "Untitled1.ipynb",
      "provenance": [],
      "authorship_tag": "ABX9TyOubT+shqDSy6zVRqY4tB4W",
      "include_colab_link": true
    },
    "kernelspec": {
      "name": "python3",
      "display_name": "Python 3"
    },
    "language_info": {
      "name": "python"
    }
  },
  "cells": [
    {
      "cell_type": "markdown",
      "metadata": {
        "id": "view-in-github",
        "colab_type": "text"
      },
      "source": [
        "<a href=\"https://colab.research.google.com/github/Steiner-bot/Learn_sympy/blob/main/Untitled1.ipynb\" target=\"_parent\"><img src=\"https://colab.research.google.com/assets/colab-badge.svg\" alt=\"Open In Colab\"/></a>"
      ]
    },
    {
      "cell_type": "code",
      "metadata": {
        "colab": {
          "base_uri": "https://localhost:8080/",
          "height": 547
        },
        "id": "JjoAwIle4OcE",
        "outputId": "98b9cee8-3f2f-4f41-89c0-699f40e895a3"
      },
      "source": [
        "import matplotlib.pyplot as plt\n",
        "import math\n",
        "def sign(num):\n",
        "    return -1 if num < 0 else 1\n",
        "def f(x):\n",
        "    return x*x+4*math.sin(x)-1\n",
        "def toFixed(numObj, digits=0):\n",
        "    return f\"{numObj:.{digits}f}\"\n",
        "def diff(x):\n",
        "    return 2*x-4*math.cos(x)\n",
        "yList = []\n",
        "xList = []\n",
        "e = 0.00001\n",
        "n = 0.1\n",
        "a = -3\n",
        "b = 1\n",
        "a1 = -3\n",
        "b1 = -2\n",
        "a2 = 0\n",
        "b2 = 1\n",
        "x = a\n",
        "while x < b:\n",
        "    y = f(x)\n",
        "    xList.append(x)\n",
        "    yList.append(y)\n",
        "    x+=n\n",
        "plt.plot(xList,yList)\n",
        "plt.show()\n",
        "\n",
        "def M1(a,b,e,y=10):\n",
        "    ItNum = 0\n",
        "    while y > e or y <-e:\n",
        "        x = (a + b)/2\n",
        "        y = f(x)\n",
        "        yb = f(b)\n",
        "        if sign(y) == sign(yb):\n",
        "            b = x\n",
        "        else: \n",
        "            a = x\n",
        "        ItNum+=1\n",
        "    return [x,ItNum]\n",
        "\n",
        "def M2(a,b,e,y=10):\n",
        "    m1 = diff(a)\n",
        "    m2 = diff(b)\n",
        "    M= max(m1,m2)\n",
        "    m = min(m1,m2)\n",
        "    t = -2/(m+M)\n",
        "    ItNum = 0\n",
        "    x0 = (a+b)/2\n",
        "    while y > e or y <-e:\n",
        "        y = f(x0)\n",
        "        x0 = x0 + t*f(x0)\n",
        "        ItNum+=1\n",
        "    return [x0,ItNum]\n",
        "    \n",
        "    \n",
        "answer1 = M1(a1,b1,e)\n",
        "print(\"x1: \"+str(toFixed(answer1[0],6)))\n",
        "print(\"Число итераций равно: \"+str(answer1[1]))\n",
        "answer2 = M1(a2,b2,e)\n",
        "print(\"x2: \"+str(toFixed(answer2[0],6)))\n",
        "print(\"Число итераций равно: \"+str(answer2[1]))\n",
        "answer3 = M2(2,e)\n",
        "print(\"x1: \"+str(toFixed(answer3[0],6)))\n",
        "print(\"Число итераций равно: \"+str(answer3[1]))\n",
        "answer4 = M2(-2,e)\n",
        "print(\"x2: \"+str(toFixed(answer4[0],6)))\n",
        "print(\"Число итераций равно: \"+str(answer4[1]))"
      ],
      "execution_count": 3,
      "outputs": [
        {
          "output_type": "display_data",
          "data": {
            "image/png": "[encoded data removed]",
            "text/plain": [
              "<Figure size 432x288 with 1 Axes>"
            ]
          },
          "metadata": {
            "tags": [],
            "needs_background": "light"
          }
        },
        {
          "output_type": "stream",
          "text": [
            "x1: -2.106867\n",
            "Число итераций равно: 19\n",
            "x2: 0.238071\n",
            "Число итераций равно: 18\n"
          ],
          "name": "stdout"
        },
        {
          "output_type": "error",
          "ename": "TypeError",
          "evalue": "ignored",
          "traceback": [
            "\u001b[0;31m---------------------------------------------------------------------------\u001b[0m",
            "\u001b[0;31mTypeError\u001b[0m                                 Traceback (most recent call last)",
            "\u001b[0;32m<ipython-input-3-52bfd5f7ee0b>\u001b[0m in \u001b[0;36m<module>\u001b[0;34m()\u001b[0m\n\u001b[1;32m     62\u001b[0m \u001b[0mprint\u001b[0m\u001b[0;34m(\u001b[0m\u001b[0;34m\"x2: \"\u001b[0m\u001b[0;34m+\u001b[0m\u001b[0mstr\u001b[0m\u001b[0;34m(\u001b[0m\u001b[0mtoFixed\u001b[0m\u001b[0;34m(\u001b[0m\u001b[0manswer2\u001b[0m\u001b[0;34m[\u001b[0m\u001b[0;36m0\u001b[0m\u001b[0;34m]\u001b[0m\u001b[0;34m,\u001b[0m\u001b[0;36m6\u001b[0m\u001b[0;34m)\u001b[0m\u001b[0;34m)\u001b[0m\u001b[0;34m)\u001b[0m\u001b[0;34m\u001b[0m\u001b[0;34m\u001b[0m\u001b[0m\n\u001b[1;32m     63\u001b[0m \u001b[0mprint\u001b[0m\u001b[0;34m(\u001b[0m\u001b[0;34m\"Число итераций равно: \"\u001b[0m\u001b[0;34m+\u001b[0m\u001b[0mstr\u001b[0m\u001b[0;34m(\u001b[0m\u001b[0manswer2\u001b[0m\u001b[0;34m[\u001b[0m\u001b[0;36m1\u001b[0m\u001b[0;34m]\u001b[0m\u001b[0;34m)\u001b[0m\u001b[0;34m)\u001b[0m\u001b[0;34m\u001b[0m\u001b[0;34m\u001b[0m\u001b[0m\n\u001b[0;32m---> 64\u001b[0;31m \u001b[0manswer3\u001b[0m \u001b[0;34m=\u001b[0m \u001b[0mM2\u001b[0m\u001b[0;34m(\u001b[0m\u001b[0;36m2\u001b[0m\u001b[0;34m,\u001b[0m\u001b[0me\u001b[0m\u001b[0;34m)\u001b[0m\u001b[0;34m\u001b[0m\u001b[0;34m\u001b[0m\u001b[0m\n\u001b[0m\u001b[1;32m     65\u001b[0m \u001b[0mprint\u001b[0m\u001b[0;34m(\u001b[0m\u001b[0;34m\"x1: \"\u001b[0m\u001b[0;34m+\u001b[0m\u001b[0mstr\u001b[0m\u001b[0;34m(\u001b[0m\u001b[0mtoFixed\u001b[0m\u001b[0;34m(\u001b[0m\u001b[0manswer3\u001b[0m\u001b[0;34m[\u001b[0m\u001b[0;36m0\u001b[0m\u001b[0;34m]\u001b[0m\u001b[0;34m,\u001b[0m\u001b[0;36m6\u001b[0m\u001b[0;34m)\u001b[0m\u001b[0;34m)\u001b[0m\u001b[0;34m)\u001b[0m\u001b[0;34m\u001b[0m\u001b[0;34m\u001b[0m\u001b[0m\n\u001b[1;32m     66\u001b[0m \u001b[0mprint\u001b[0m\u001b[0;34m(\u001b[0m\u001b[0;34m\"Число итераций равно: \"\u001b[0m\u001b[0;34m+\u001b[0m\u001b[0mstr\u001b[0m\u001b[0;34m(\u001b[0m\u001b[0manswer3\u001b[0m\u001b[0;34m[\u001b[0m\u001b[0;36m1\u001b[0m\u001b[0;34m]\u001b[0m\u001b[0;34m)\u001b[0m\u001b[0;34m)\u001b[0m\u001b[0;34m\u001b[0m\u001b[0;34m\u001b[0m\u001b[0m\n",
            "\u001b[0;31mTypeError\u001b[0m: M2() missing 1 required positional argument: 'e'"
          ]
        }
      ]
    }
  ]
}