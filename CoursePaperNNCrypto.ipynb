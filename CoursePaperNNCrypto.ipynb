{
  "nbformat": 4,
  "nbformat_minor": 0,
  "metadata": {
    "colab": {
      "name": "CoursePaperNNCrypto.ipynb",
      "provenance": [],
      "collapsed_sections": [],
      "include_colab_link": true
    },
    "kernelspec": {
      "display_name": "Python 3",
      "language": "python",
      "name": "python3"
    },
    "language_info": {
      "codemirror_mode": {
        "name": "ipython",
        "version": 3
      },
      "file_extension": ".py",
      "mimetype": "text/x-python",
      "name": "python",
      "nbconvert_exporter": "python",
      "pygments_lexer": "ipython3",
      "version": "3.8.5"
    }
  },
  "cells": [
    {
      "cell_type": "markdown",
      "metadata": {
        "id": "view-in-github",
        "colab_type": "text"
      },
      "source": [
        "<a href=\"https://colab.research.google.com/github/Steiner-bot/Learn_sympy/blob/main/CoursePaperNNCrypto.ipynb\" target=\"_parent\"><img src=\"https://colab.research.google.com/assets/colab-badge.svg\" alt=\"Open In Colab\"/></a>"
      ]
    },
    {
      "cell_type": "markdown",
      "metadata": {
        "id": "4n4yJ_aS_PU0"
      },
      "source": [
        "## Курсовая работа\n"
      ]
    },
    {
      "cell_type": "code",
      "metadata": {
        "colab": {
          "base_uri": "https://localhost:8080/"
        },
        "id": "dkNsgw-I_UxQ",
        "outputId": "c998f346-9fcf-4c45-bbe7-0c4167a01f9f"
      },
      "source": [
        "!pip install theano\n",
        "!pip install --upgrade https://github.com/Theano/Theano/archive/master.zip\n",
        "!pip install lasagne==0.1\n",
        "!pip install --upgrade https://github.com/Lasagne/Lasagne/archive/master.zip"
      ],
      "execution_count": 1,
      "outputs": [
        {
          "output_type": "stream",
          "text": [
            "Requirement already satisfied: theano in /usr/local/lib/python3.7/dist-packages (1.0.5+unknown)\n",
            "Requirement already satisfied: scipy>=0.14 in /usr/local/lib/python3.7/dist-packages (from theano) (1.4.1)\n",
            "Requirement already satisfied: six>=1.9.0 in /usr/local/lib/python3.7/dist-packages (from theano) (1.15.0)\n",
            "Requirement already satisfied: numpy>=1.9.1 in /usr/local/lib/python3.7/dist-packages (from theano) (1.19.5)\n",
            "Collecting https://github.com/Theano/Theano/archive/master.zip\n",
            "  Using cached https://github.com/Theano/Theano/archive/master.zip\n",
            "Requirement already satisfied, skipping upgrade: numpy>=1.9.1 in /usr/local/lib/python3.7/dist-packages (from Theano==1.0.5+unknown) (1.19.5)\n",
            "Requirement already satisfied, skipping upgrade: scipy>=0.14 in /usr/local/lib/python3.7/dist-packages (from Theano==1.0.5+unknown) (1.4.1)\n",
            "Requirement already satisfied, skipping upgrade: six>=1.9.0 in /usr/local/lib/python3.7/dist-packages (from Theano==1.0.5+unknown) (1.15.0)\n",
            "Building wheels for collected packages: Theano\n",
            "  Building wheel for Theano (setup.py) ... \u001b[?25l\u001b[?25hdone\n",
            "  Created wheel for Theano: filename=Theano-1.0.5+unknown-cp37-none-any.whl size=2667281 sha256=e5a37f61f2e066cab00235b7dbfe720cfa55539707559b5abc22c55dc855d730\n",
            "  Stored in directory: /tmp/pip-ephem-wheel-cache-ynrkw4rb/wheels/33/73/96/0ed263c62a86e2485ea634e0d3ae8169d50fd66e3b252541db\n",
            "Successfully built Theano\n",
            "Installing collected packages: Theano\n",
            "  Found existing installation: Theano 1.0.5+unknown\n",
            "    Uninstalling Theano-1.0.5+unknown:\n",
            "      Successfully uninstalled Theano-1.0.5+unknown\n",
            "Successfully installed Theano-1.0.5+unknown\n",
            "Processing /root/.cache/pip/wheels/a5/8e/31/b4cae7e5507f8582e77d7f5cf2815be8820ccacfa0519ca60c/Lasagne-0.1-cp37-none-any.whl\n",
            "Requirement already satisfied: numpy in /usr/local/lib/python3.7/dist-packages (from lasagne==0.1) (1.19.5)\n",
            "Installing collected packages: lasagne\n",
            "  Found existing installation: Lasagne 0.2.dev1\n",
            "    Uninstalling Lasagne-0.2.dev1:\n",
            "      Successfully uninstalled Lasagne-0.2.dev1\n",
            "Successfully installed lasagne-0.1\n",
            "Collecting https://github.com/Lasagne/Lasagne/archive/master.zip\n",
            "  Using cached https://github.com/Lasagne/Lasagne/archive/master.zip\n",
            "Requirement already satisfied, skipping upgrade: numpy in /usr/local/lib/python3.7/dist-packages (from Lasagne==0.2.dev1) (1.19.5)\n",
            "Building wheels for collected packages: Lasagne\n",
            "  Building wheel for Lasagne (setup.py) ... \u001b[?25l\u001b[?25hdone\n",
            "  Created wheel for Lasagne: filename=Lasagne-0.2.dev1-cp37-none-any.whl size=122797 sha256=0d5d372308a3b2e9a5bfb515ffbfdbe2001288663ddeeb1a47eb4da980c76401\n",
            "  Stored in directory: /tmp/pip-ephem-wheel-cache-79ggro89/wheels/ca/4a/00/87f1777b229481fe76562df7c0cfb993bc88ed0cc37e3f0ed4\n",
            "Successfully built Lasagne\n",
            "Installing collected packages: Lasagne\n",
            "  Found existing installation: Lasagne 0.1\n",
            "    Uninstalling Lasagne-0.1:\n",
            "      Successfully uninstalled Lasagne-0.1\n",
            "Successfully installed Lasagne-0.2.dev1\n"
          ],
          "name": "stdout"
        }
      ]
    },
    {
      "cell_type": "code",
      "metadata": {
        "id": "VgJwQ6x7_PVA"
      },
      "source": [
        "import theano\n",
        "import theano.tensor as T\n",
        "import numpy as np\n",
        "import matplotlib.pyplot as plt\n",
        "from lasagne.updates import adam"
      ],
      "execution_count": 2,
      "outputs": []
    },
    {
      "cell_type": "markdown",
      "metadata": {
        "id": "dBqPjWcZ_PVC"
      },
      "source": [
        "### Определение необходимых функций и классов"
      ]
    },
    {
      "cell_type": "code",
      "metadata": {
        "id": "41ugIN57_PVD"
      },
      "source": [
        "def get_activation(inp, act_fn, name):\n",
        "    if act_fn == 'tanh':\n",
        "        return T.tanh(inp)\n",
        "    elif act_fn == 'relu':\n",
        "        return T.nnet.relu(inp)\n",
        "    elif act_fn == 'sigmoid':\n",
        "        return T.nnet.sigmoid(inp)\n",
        "    else:\n",
        "        print ('Note: no valid activation specified for ' + name)\n",
        "        return inp\n",
        " \n",
        "def get_source(source):\n",
        "    \"\"\"Функция, используемая для получения тензора теано \n",
        "    из класса, если класс был передан в\"\"\"\n",
        "    if 'Layer' in source.__class__.__name__:\n",
        "        return source.output\n",
        "    return source\n",
        "    \n",
        "def get_weights(in_dim, out_dim, name):\n",
        "    \"\"\"Функция для получения разделяемой матрицы W, \n",
        "    инициализированной Glorot\"\"\"\n",
        "    W_val = np.asarray(\\\n",
        "        np.random.uniform(low=-np.sqrt(6. / (in_dim + out_dim)), \n",
        "                          high=np.sqrt(6. / (in_dim + out_dim)),\n",
        "                          size=(in_dim, out_dim)), dtype=theano.config.floatX)\n",
        "    return theano.shared(value=W_val, name=name, borrow=True)\n",
        " \n",
        "def get_bias(d, name):\n",
        "    \"\"\"Функция для получения общей переменной смещения\"\"\"\n",
        "    b_values = np.zeros((d,), dtype=theano.config.floatX)\n",
        "    b = theano.shared(value=b_values, name=name, borrow=True)\n",
        "    return b\n",
        "\n",
        "def get_all_params(layers):\n",
        "    \"\"\"Функция для извлечения всех параметров из списка слоев\"\"\"\n",
        "    out = []\n",
        "    for l in layers:\n",
        "        for p in l.params:\n",
        "            out.append(p)\n",
        "    return out"
      ],
      "execution_count": 3,
      "outputs": []
    },
    {
      "cell_type": "code",
      "metadata": {
        "id": "YiGfa6Kn_PVE"
      },
      "source": [
        "class ConvLayer:\n",
        "    def __init__(self, source, filter_shape, image_shape, stride,\n",
        "                 act_fn, border_mode='full', name='conv'):\n",
        "        assert image_shape[1] == filter_shape[1]\n",
        "                             \n",
        "        self.image_shape = image_shape\n",
        "        self.filter_shape = filter_shape\n",
        "        self.stride = stride\n",
        "        self.border_mode = border_mode\n",
        "        self.name = name\n",
        "        self.act_fn = act_fn\n",
        "        \n",
        "        self.parent = source\n",
        "        self.source = get_source(source)\n",
        " \n",
        "        #количество входных карт функций высота фильтра, ширина фильтра\n",
        "        # входы для каждого скрытого блока\n",
        "        fan_in = np.prod(filter_shape[1:])\n",
        "        # каждая единица нижнего уровня получает градиент от:\n",
        "        # \"количество выходных карт функций * высота фильтра * ширина фильтра\"\n",
        "        fan_out = (filter_shape[0] * np.prod(filter_shape[2:]))\n",
        "        # инициализировать веса случайными весами\n",
        "        W_bound = np.sqrt(6. / (fan_in + fan_out))\n",
        "        self.W = theano.shared(\n",
        "            np.asarray(\n",
        "                np.random.uniform(low=-W_bound, high=W_bound, size=filter_shape),\n",
        "                dtype=theano.config.floatX\n",
        "            ),\n",
        "            borrow=True,\n",
        "            name=name + '_W'\n",
        "        )\n",
        " \n",
        "        # смещение представляет собой одномерный тензор - одно смещение на выходную карту признаков\n",
        "        b_values = np.zeros((filter_shape[0],), dtype=theano.config.floatX)\n",
        "        self.b = theano.shared(value=b_values, borrow=True, name=name + '_b')\n",
        "        # свертка входных карт объектов с фильтрами\n",
        "        conv_out = T.nnet.conv2d(\n",
        "            input=self.source,\n",
        "            filters=self.W,\n",
        "            filter_shape=self.filter_shape,\n",
        "            input_shape=self.image_shape,\n",
        "            border_mode=self.border_mode,\n",
        "            subsample=self.stride\n",
        "        )\n",
        "        \n",
        "        # Вывод расчетов\n",
        "        self.output_pre_activ = conv_out + self.b.dimshuffle('x', 0, 'x', 'x')\n",
        "        # Активировать это\n",
        "        self.output = get_activation(self.output_pre_activ,\n",
        "                                     act_fn=self.act_fn,\n",
        "                                     name=self.name)\n",
        " \n",
        "        self.params = [self.W, self.b]"
      ],
      "execution_count": 4,
      "outputs": []
    },
    {
      "cell_type": "code",
      "metadata": {
        "id": "SzTsP6Lf_PVG"
      },
      "source": [
        "class HiddenLayer:\n",
        "    def __init__(self, source, input_size, hidden_size, name, act_fn):\n",
        "        self.parent = source\n",
        "        self.source = get_source(source)\n",
        "        self.input_size = input_size\n",
        "        self.hidden_size = hidden_size\n",
        "        self.name = name\n",
        "        self.act_fn = act_fn\n",
        "        # Получите веса и смещения\n",
        "        self.W = get_weights(self.input_size, self.hidden_size, 'W_' + name)\n",
        "        self.b = get_bias(self.hidden_size, 'b_' + name)\n",
        "        # Вывод расчетов\n",
        "        self.output_pre_activ = T.dot(self.source, self.W) + \\\n",
        "                                self.b.dimshuffle('x', 0)\n",
        "        # Activate it\n",
        "        self.output = get_activation(self.output_pre_activ,\n",
        "                                     act_fn=self.act_fn,\n",
        "                                     name=self.name)\n",
        "        self.params = [self.W, self.b]"
      ],
      "execution_count": 5,
      "outputs": []
    },
    {
      "cell_type": "code",
      "metadata": {
        "id": "h1fNRCXH_PVH"
      },
      "source": [
        "# Параметры\n",
        "batch_size = 512\n",
        "msg_len = 16\n",
        "key_len = 16\n",
        "comm_len = 16\n",
        " \n",
        "# флаг, чтобы исключить сверточные слои из сетей.\n",
        "skip_conv = False"
      ],
      "execution_count": 6,
      "outputs": []
    },
    {
      "cell_type": "code",
      "metadata": {
        "id": "NoWEAcwrGUM2"
      },
      "source": [
        "def gen_data(n=batch_size, msg_len=msg_len, key_len=key_len):\n",
        "    \"\"\"Функция для генерации n случайных сообщений и ключей\"\"\"\n",
        "    return (np.random.randint(0, 2, size=(n, msg_len))*2-1).\\\n",
        "                astype(theano.config.floatX),\\\n",
        "           (np.random.randint(0, 2, size=(n, key_len))*2-1).\\\n",
        "                astype(theano.config.floatX)\n",
        " \n",
        "def assess(pred_fn, n=batch_size, msg_len=msg_len, \n",
        "           key_len=key_len):\n",
        "    \"\"\"Function to assess a batch by eye (see what the \n",
        "    errors look like)\"\"\"\n",
        "    msg_in_val, key_val = gen_data(n, msg_len, key_len)\n",
        "    return np.round(np.abs(msg_in_val[0:n] - \\\n",
        "           pred_fn(msg_in_val[0:n], key_val[0:n])), 0)\n",
        "\n",
        "def err_over_samples(err_fn, n=batch_size):\n",
        "    \"\"\"Функция для получения ошибки\"\"\"\n",
        "    msg_in_val, key_val = gen_data(n)\n",
        "    return err_fn(msg_in_val[0:n], key_val[0:n])"
      ],
      "execution_count": 7,
      "outputs": []
    },
    {
      "cell_type": "code",
      "metadata": {
        "id": "q8KP8U04_PVJ"
      },
      "source": [
        "class StandardConvSetup():\n",
        "    def __init__(self, reshaped_input, name='unnamed'):\n",
        "        \n",
        "        self.name = name\n",
        "        self.conv_layer1 = ConvLayer(reshaped_input,\n",
        "                                     filter_shape=(2, 1, 4, 1), #num outs, num ins, size\n",
        "                                     image_shape=(None, 1, None, 1),\n",
        "                                     stride=(1,1),\n",
        "                                     name=self.name + '_conv1',\n",
        "                                     border_mode=(2,0),\n",
        "                                     act_fn='relu')\n",
        "        \n",
        "        self.conv_layer2 = ConvLayer(self.conv_layer1, \n",
        "                                     filter_shape=(4, 2, 2, 1),\n",
        "                                     image_shape=(None, 2, None, 1),\n",
        "                                     stride=(2,1),\n",
        "                                     name=self.name + '_conv2',\n",
        "                                     border_mode=(0,0),\n",
        "                                     act_fn='relu')\n",
        "        \n",
        "        self.conv_layer3 = ConvLayer(self.conv_layer2, \n",
        "                                     filter_shape=(4, 4, 1, 1),\n",
        "                                     image_shape=(None, 4, None, 1),\n",
        "                                     stride=(1,1),\n",
        "                                     name=self.name + '_conv3',\n",
        "                                     border_mode=(0,0),\n",
        "                                     act_fn='relu')\n",
        "        \n",
        "        self.conv_layer4 = ConvLayer(self.conv_layer3, \n",
        "                                     filter_shape=(1, 4, 1, 1),\n",
        "                                     image_shape=(None, 4, None, 1),\n",
        "                                     stride=(1,1),\n",
        "                                     name=self.name + '_conv4',\n",
        "                                     border_mode=(0,0),\n",
        "                                     act_fn='tanh')\n",
        "        \n",
        "        self.output = self.conv_layer4.output\n",
        "        self.layers = [self.conv_layer1, self.conv_layer2, \n",
        "                       self.conv_layer3, self.conv_layer4]\n",
        "        self.params = []\n",
        "        for l in self.layers:\n",
        "            self.params += l.params"
      ],
      "execution_count": 8,
      "outputs": []
    },
    {
      "cell_type": "markdown",
      "metadata": {
        "id": "Zqer4tJU_PVJ"
      },
      "source": [
        "### Подготовка нейронной сети"
      ]
    },
    {
      "cell_type": "code",
      "metadata": {
        "id": "6s1hFdIb_PVJ",
        "colab": {
          "base_uri": "https://localhost:8080/"
        },
        "outputId": "aecd0aa1-4faa-4fc7-ca79-cbd92e543ca1"
      },
      "source": [
        "# Тензорные переменные для сообщения и ключа\n",
        "msg_in = T.matrix('msg_in')\n",
        "key = T.matrix('key')\n",
        " \n",
        "# Ввод Алисы - это соединение сообщения и ключа\n",
        "alice_in = T.concatenate([msg_in, key], axis=1)\n",
        " \n",
        "# Скрытый слой Алисы\n",
        "alice_hid = HiddenLayer(alice_in,\n",
        "                        input_size=msg_len + key_len,\n",
        "                        hidden_size=msg_len + key_len,\n",
        "                        name='alice_to_hid',\n",
        "                        act_fn='relu')\n",
        "if skip_conv:\n",
        "    alice_conv = HiddenLayer(alice_hid,\n",
        "                             input_size=msg_len + key_len,\n",
        "                             hidden_size=msg_len,\n",
        "                             name='alice_hid_to_comm',\n",
        "                             act_fn='tanh')\n",
        "    alice_comm = alice_conv.output\n",
        "else:\n",
        "    \n",
        "    alice_conv_in = alice_hid.output.reshape((batch_size, 1, msg_len + key_len, 1))\n",
        "    # Сверточные слои Алисы\n",
        "    alice_conv = StandardConvSetup(alice_conv_in, 'alice')\n",
        "    \n",
        "    alice_comm = alice_conv.output.reshape((batch_size, msg_len))\n",
        " \n",
        "# Ввод Боба - это соединение сообщения Алисы и ключа\n",
        "bob_in = T.concatenate([alice_comm, key], axis=1)\n",
        "# Он расшифровывает, используя скрытый слой и свёрточную сеть согласно Алисе.\n",
        "bob_hid = HiddenLayer(bob_in, \n",
        "                      input_size=comm_len + key_len,\n",
        "                      hidden_size=comm_len + key_len,\n",
        "                      name='bob_to_hid',\n",
        "                      act_fn='relu')\n",
        "if skip_conv:\n",
        "    bob_conv = HiddenLayer(bob_hid,\n",
        "                           input_size=comm_len + key_len,\n",
        "                           hidden_size=msg_len,\n",
        "                           name='bob_hid_to_msg',\n",
        "                           act_fn='tanh')\n",
        "    bob_msg = bob_conv.output\n",
        "else:\n",
        "    bob_conv_in = bob_hid.output.reshape((batch_size, 1, comm_len + key_len, 1))\n",
        "    bob_conv = StandardConvSetup(bob_conv_in, 'bob')\n",
        "    bob_msg = bob_conv.output.reshape((batch_size, msg_len))\n",
        " \n",
        "# Ева видит сообщение Алисы Бобу, но не ключ\n",
        "# Она получает дополнительный скрытый слой, чтобы попытаться научиться расшифровывать сообщение.\n",
        "eve_hid1 = HiddenLayer(alice_comm, \n",
        "                       input_size=comm_len,\n",
        "                       hidden_size=comm_len + key_len,\n",
        "                       name='eve_to_hid1',\n",
        "                       act_fn='relu')\n",
        "                          \n",
        "eve_hid2 = HiddenLayer(eve_hid1, \n",
        "                       input_size=comm_len + key_len,\n",
        "                       hidden_size=comm_len + key_len,\n",
        "                       name='eve_to_hid2',\n",
        "                       act_fn='relu')\n",
        " \n",
        "if skip_conv:\n",
        "    eve_conv = HiddenLayer(eve_hid2,\n",
        "                           input_size=comm_len + key_len,\n",
        "                           hidden_size=msg_len,\n",
        "                           name='eve_hid_to_msg',\n",
        "                           act_fn='tanh')\n",
        "    eve_msg = eve_conv.output\n",
        "else:\n",
        "    eve_conv_in = eve_hid2.output.reshape((batch_size, 1, comm_len + key_len, 1))\n",
        "    eve_conv = StandardConvSetup(eve_conv_in, 'eve')\n",
        "    eve_msg = eve_conv.output.reshape((batch_size, msg_len))\n",
        " \n",
        "# Функция потерь Евы - это норма L1 между истинным и восстановленным сообщением.\n",
        "decrypt_err_eve = T.mean(T.abs_(msg_in - eve_msg))\n",
        " \n",
        "# Функция потерь Боба - это норма L1 между истинным и восстановленным\n",
        "decrypt_err_bob = T.mean(T.abs_(msg_in - bob_msg))\n",
        "# --> Боб хочет, чтобы Ева могла угадывать только наугад.\n",
        "loss_bob = decrypt_err_bob + (1. - decrypt_err_eve) ** 2.\n",
        " \n",
        " \n",
        "# Получает все параметры для Боба и Алисы, обновлет, обучет и подготавливает функции\n",
        "params   = {'bob' : get_all_params([bob_conv, bob_hid, \n",
        "                                    alice_conv, alice_hid])}\n",
        "updates  = {'bob' : adam(loss_bob, params['bob'])}\n",
        "err_fn   = {'bob' : theano.function(inputs=[msg_in, key],\n",
        "                                    outputs=decrypt_err_bob)}\n",
        "train_fn = {'bob' : theano.function(inputs=[msg_in, key],\n",
        "                                    outputs=loss_bob,\n",
        "                                    updates=updates['bob'])}\n",
        "pred_fn  = {'bob' : theano.function(inputs=[msg_in, key], outputs=bob_msg)}\n",
        " \n",
        "params['eve']   = get_all_params([eve_hid1, eve_hid2, eve_conv])\n",
        "updates['eve']  = adam(decrypt_err_eve, params['eve'])\n",
        "err_fn['eve']   = theano.function(inputs=[msg_in, key], \n",
        "                                  outputs=decrypt_err_eve)\n",
        "train_fn['eve'] = theano.function(inputs=[msg_in, key], \n",
        "                                  outputs=decrypt_err_eve,\n",
        "                                  updates=updates['eve'])\n",
        "pred_fn['eve']  = theano.function(inputs=[msg_in, key], outputs=eve_msg)"
      ],
      "execution_count": 9,
      "outputs": [
        {
          "output_type": "stream",
          "text": [
            "WARNING (theano.tensor.blas): We did not find a dynamic library in the library_dir of the library we use for blas. If you use ATLAS, make sure to compile it with dynamics library.\n"
          ],
          "name": "stderr"
        }
      ]
    },
    {
      "cell_type": "markdown",
      "metadata": {
        "id": "pGn_qJ8Q_PVM"
      },
      "source": [
        "### Обучение сети"
      ]
    },
    {
      "cell_type": "code",
      "metadata": {
        "id": "vnT0AJwF_PVM",
        "colab": {
          "base_uri": "https://localhost:8080/"
        },
        "outputId": "d90b6042-5e8f-4183-ef1c-6bcd3d72e9c8"
      },
      "source": [
        "def train(bob_or_eve, results, max_iters, print_every, es=0., es_limit=100):\n",
        "    \"\"\"Функция для обучения Боба + Алисы или Евы в течение некоторого времени\"\"\"\n",
        "    count = 0\n",
        "    for i in range(max_iters):\n",
        "        # Генерирует данные\n",
        "        msg_in_val, key_val = gen_data()\n",
        "        loss = train_fn[bob_or_eve](msg_in_val, key_val)\n",
        "        results = np.hstack((results, \n",
        "                             err_fn[bob_or_eve](msg_in_val, key_val).sum()))\n",
        "        if i % print_every == 0:\n",
        "            print ('training loss:', loss)\n",
        "        # Eранняя остановка, если мы видим низкую ошибку дешифрования\n",
        "        if es and loss < es:\n",
        "            count += 1\n",
        "            if count > es_limit:\n",
        "                break\n",
        "    return np.hstack((results, np.repeat(results[-1], max_iters - i - 1)))\n",
        " \n",
        "results_bob, results_eve = [], []\n",
        "adversarial_iterations = 1\n",
        " \n",
        "for i in range(adversarial_iterations):\n",
        "    n = 2000\n",
        "    print_every = 100\n",
        "    print ('training bob and alice, run:', i+1)\n",
        "    results_bob = train('bob', results_bob, n, print_every, es=0.01)\n",
        "    print ('training eve, run:', i+1)\n",
        "    results_eve = train('eve', results_eve, n, print_every, es=0.01)"
      ],
      "execution_count": 10,
      "outputs": [
        {
          "output_type": "stream",
          "text": [
            "training bob and alice, run: 1\n",
            "training loss: 0.9993531108325979\n",
            "training loss: 0.9146033801036713\n",
            "training loss: 0.5948838235059638\n",
            "training loss: 0.27261327706408534\n",
            "training loss: 0.07799979097995809\n",
            "training loss: 0.022966569003266928\n",
            "training loss: 0.00873589441921234\n",
            "training eve, run: 1\n",
            "training loss: 1.0018088294062757\n",
            "training loss: 0.8435351549559426\n",
            "training loss: 0.2891606795668058\n",
            "training loss: 0.05991325246276107\n",
            "training loss: 0.028588407503051496\n",
            "training loss: 0.017425748960855105\n",
            "training loss: 0.012081052842895014\n",
            "training loss: 0.008578623246524258\n"
          ],
          "name": "stdout"
        }
      ]
    },
    {
      "cell_type": "markdown",
      "metadata": {
        "id": "6fzvWTak_PVN"
      },
      "source": [
        "### Результаты"
      ]
    },
    {
      "cell_type": "code",
      "metadata": {
        "id": "q9VjD-9Y_PVN",
        "colab": {
          "base_uri": "https://localhost:8080/",
          "height": 304
        },
        "outputId": "6c78c511-ff67-42c0-ce25-e3f116742b33"
      },
      "source": [
        "n = 100\n",
        "# Постройка пезультатов\n",
        "plt.plot([np.min(results_bob[i:i+n]) for i in np.arange(0, \n",
        "          len(results_bob), n)])\n",
        "plt.plot([np.min(results_eve[i:i+n]) for i in np.arange(0, \n",
        "          len(results_eve), n)])\n",
        "plt.legend(['bob', 'eve'])\n",
        "plt.xlabel('Итерация')\n",
        "plt.ylabel('самая низкая достигнутая ошибка дешифрования')\n",
        "plt.show()"
      ],
      "execution_count": 11,
      "outputs": [
        {
          "output_type": "display_data",
          "data": {
            "image/png": "[encoded data removed]",
            "text/plain": [
              "<Figure size 432x288 with 1 Axes>"
            ]
          },
          "metadata": {
            "tags": [],
            "needs_background": "light"
          }
        }
      ]
    },
    {
      "cell_type": "code",
      "metadata": {
        "id": "DEmxl0AtAjIK"
      },
      "source": [
        ""
      ],
      "execution_count": null,
      "outputs": []
    }
  ]
}