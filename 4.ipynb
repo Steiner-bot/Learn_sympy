{
  "nbformat": 4,
  "nbformat_minor": 0,
  "metadata": {
    "colab": {
      "name": "4.ipynb",
      "provenance": [],
      "authorship_tag": "ABX9TyOKZoO1+LRr5p75/zHIJOod",
      "include_colab_link": true
    },
    "kernelspec": {
      "name": "python3",
      "display_name": "Python 3"
    },
    "language_info": {
      "name": "python"
    }
  },
  "cells": [
    {
      "cell_type": "markdown",
      "metadata": {
        "id": "view-in-github",
        "colab_type": "text"
      },
      "source": [
        "<a href=\"https://colab.research.google.com/github/Steiner-bot/Learn_sympy/blob/main/4.ipynb\" target=\"_parent\"><img src=\"https://colab.research.google.com/assets/colab-badge.svg\" alt=\"Open In Colab\"/></a>"
      ]
    },
    {
      "cell_type": "code",
      "metadata": {
        "id": "dL1J5SxKQLvy"
      },
      "source": [
        "from IPython.display import display, Math\n",
        "import math"
      ],
      "execution_count": 3,
      "outputs": []
    },
    {
      "cell_type": "code",
      "metadata": {
        "id": "tHBG6xKXQRiO"
      },
      "source": [
        "def add(x, y):\n",
        "  return ['+', x, y]\n",
        "\n",
        "def sub(x, y):\n",
        "  return [\"-\", x, y]\n",
        "\n",
        "def mul(x, y):\n",
        "  return ['*', x, y]\n",
        "\n",
        "def div(x, y):\n",
        "  return [\"/\", x, y]\n",
        "\n",
        "def pow(x, y):\n",
        "  return [\"^\", x, y]\n",
        "\n",
        "def fsqrt(x):\n",
        "  return ['sqrt', x]\n",
        "\n",
        "def fln(x):\n",
        "  return ['ln', x]\n",
        "\n",
        "def flg(x):\n",
        "  return ['lg', x]\n",
        "\n",
        "def fsin(x):\n",
        "  return ['sin', x]\n",
        "\n",
        "def fcos(x):\n",
        "  return ['cos', x]\n",
        "\n",
        "def ftan(x):\n",
        "  return ['tan', x]\n",
        "\n",
        "def fctan(x):\n",
        "  return ['ctan', x]\n",
        "\n",
        "def farcsin(x):\n",
        "  return ['arcsin', x]\n",
        "\n",
        "def farccos(x):\n",
        "  return ['arccos', x]\n",
        "\n",
        "def farctan(x):\n",
        "  return ['cos', x]\n",
        "\n",
        "def fsh(x):\n",
        "  return ['sh', x]\n",
        "\n",
        "def fch(x):\n",
        "  return ['ch', x]\n",
        "\n",
        "def fth(x):\n",
        "  return ['th', x]\n",
        "\n",
        "def neg(x):\n",
        "  return [\"--\", x]"
      ],
      "execution_count": 4,
      "outputs": []
    },
    {
      "cell_type": "code",
      "metadata": {
        "id": "0q6tthmcQSsw"
      },
      "source": [
        "def check(x):\n",
        "  if isinstance(x, Expression):\n",
        "    return x\n",
        "  return Expression(x)\n",
        "\n",
        "class Expression:\n",
        "  def __init__(self, f):\n",
        "    self.f = f\n",
        "\n",
        "  def __add__(self, x):\n",
        "    x = check(x)\n",
        "    return Expression(add(self.f, x.f))\n",
        "\n",
        "  def __sub__(self, x):\n",
        "    x = check(x)\n",
        "    return Expression(sub(self.f, x.f))\n",
        "\n",
        "  def __mul__(self, x):\n",
        "    x = check(x)\n",
        "    return Expression(mul(self.f, x.f))\n",
        "\n",
        "  def __pow__(self, x):\n",
        "    x = check(x)\n",
        "    return Expression(pow(self.f, x.f))\n",
        "\n",
        "  def __radd__(self, x):\n",
        "    x = check(x)\n",
        "    return Expression(add(x.f, self.f))\n",
        "\n",
        "  def __rsub__(self, x):\n",
        "    x = check(x)\n",
        "    return Expression(sub(x.f, self.f))\n",
        "\n",
        "  def __rmul__(self, x):\n",
        "    x = check(x)\n",
        "    return Expression(mul(x.f, self.f))\n",
        "\n",
        "  def __rtruediv__(self, x):\n",
        "    x = check(x)\n",
        "    return Expression(div(x.f, self.f))\n",
        "    \n",
        "  def __rpow__(self, x):\n",
        "    x = check(x)\n",
        "    return Expression(pow(x.f, self.f))\n",
        "\n",
        "  def __neg__(self):\n",
        "    return Expression(neg(self.f))\n",
        "    \n",
        "  def evalf(self):\n",
        "    return evaluate(self.f)\n",
        "\n",
        "  def show(self):\n",
        "    display(Math(toLatex(self.f)))\n",
        "\n",
        "  def __str__(self):\n",
        "    return toLatex(self.f)\n",
        "\n",
        "  def diff(self, var):\n",
        "    var = check(var).f\n",
        "    return Expression(differentiate(self.f, var))\n",
        "\n",
        "  def simp(self):\n",
        "    return Expression(simplify(self.f))\n",
        "\n",
        "  def expn(self):\n",
        "    return Expression(expand(self.f))\n",
        "\n",
        "  def intg(self, var):\n",
        "    var = check(var).f\n",
        "    return Expression(integrate(self.f, var))"
      ],
      "execution_count": 5,
      "outputs": []
    },
    {
      "cell_type": "code",
      "metadata": {
        "id": "4MBubReQQXsx"
      },
      "source": [
        "def sqrt(x):\n",
        "  x = check(x)\n",
        "  t = x.f\n",
        "  r = fsqrt(t)\n",
        "  return Expression(r)\n",
        "\n",
        "def ln(x):\n",
        "  return Expression(fln(check(x).f))\n",
        "\n",
        "def lg(x):\n",
        "  return Expression(flg(check(x).f))\n",
        "\n",
        "def sin(x):\n",
        "  return Expression(fsin(check(x).f))\n",
        "\n",
        "def cos(x):\n",
        "  return Expression(fcos(check(x).f))\n",
        "\n",
        "def tan(x):\n",
        "  return Expression(ftan(check(x).f))\n",
        "\n",
        "def ctan(x):\n",
        "  return Expression(fctan(check(x).f))\n",
        "\n",
        "def arcsin(x):\n",
        "  return Expression(farcsin(check(x).f))\n",
        "\n",
        "def arccos(x):\n",
        "  return Expression(farccos(check(x).f))\n",
        "\n",
        "def arctan(x):\n",
        "  return Expression(farctan(check(x).f))\n",
        "\n",
        "def sh(x):\n",
        "  return Expression(fsh(check(x).f))\n",
        "\n",
        "def ch(x):\n",
        "  return Expression(fch(check(x).f))\n",
        "\n",
        "def th(x):\n",
        "  return Expression(fth(check(x).f))"
      ],
      "execution_count": 6,
      "outputs": []
    },
    {
      "cell_type": "code",
      "metadata": {
        "id": "zEsEaMHlQbXP"
      },
      "source": [
        "def substitute(f, var, val):\n",
        "  val = check(val).f\n",
        "  if f == var:\n",
        "    return val\n",
        "  elif isinstance(f, list):\n",
        "    y = [f[0]]\n",
        "    for i in range(1, len(f)):\n",
        "      t = substitute(f[i], var, val)\n",
        "      y.append(t)\n",
        "    return y\n",
        "  else:\n",
        "    return f"
      ],
      "execution_count": 7,
      "outputs": []
    },
    {
      "cell_type": "code",
      "metadata": {
        "id": "X89d5Jq6QbIX"
      },
      "source": [
        "def evaluate(f):\n",
        "  if isinstance(f, (int, float)):\n",
        "    return f\n",
        "  elif isinstance(f, list):\n",
        "    if f[0] == \"+\": \n",
        "      return evaluate(f[1]) + evaluate(f[2])\n",
        "    elif f[0] == \"*\":\n",
        "      return evaluate(f[1]) * evaluate(f[2])\n",
        "    elif f[0] == \"sqrt\":\n",
        "      return math.sqrt(evaluate(f[1]))\n",
        "    elif f[0] == \"sin\":\n",
        "      return math.sin(evaluate(f[1]))\n",
        "    elif f[0] == \"cos\":\n",
        "      return math.cos(evaluate(f[1]))\n",
        "  return None"
      ],
      "execution_count": 8,
      "outputs": []
    },
    {
      "cell_type": "code",
      "metadata": {
        "id": "gIk7pYNuQfoJ"
      },
      "source": [
        "def toLatex(x):\n",
        "  if isinstance(x, (int, float)):\n",
        "    return str(x)\n",
        "  if isinstance(x, str):\n",
        "    return x\n",
        "  if isinstance(x, list):\n",
        "    if x[0] == \"+\":\n",
        "      return toLatex(x[1]) + \"+\" + toLatex(x[2])\n",
        "      #return toLatex(x[2])\n",
        "\n",
        "    if x[0] == \"-\":\n",
        "      return toLatex(x[1]) + \"-\" + toLatex(x[2])\n",
        "\n",
        "    if x[0] == \"*\":\n",
        "      left = toLatex(x[1])\n",
        "      if isinstance(x[1], list) and x[1][0] == \"+\":\n",
        "        left = \"\\\\left(\" + left + \"\\\\right)\"\n",
        "      right = toLatex(x[2])\n",
        "      if isinstance(x[2], list) and x[2][0] == \"+\":\n",
        "        right = \"\\\\left(\" + right + \"\\\\right)\"\n",
        "      return left + \"\\\\cdot \" + right\n",
        "\n",
        "    if x[0] == \"/\":\n",
        "      return \"\\\\dfrac{\" + toLatex(x[1]) + \"}{\" + toLatex(x[2]) + \"}\"\n",
        "\n",
        "    if x[0] == \"^\":\n",
        "      left = toLatex(x[1])\n",
        "      if isinstance(x[1], list):\n",
        "        left = \"\\\\left(\" + left + \"\\\\right)\"\n",
        "      right = toLatex(x[2])\n",
        "      return \"{\" + left + \"}^{\" + right + \"}\"\n",
        "    \n",
        "    if x[0] == \"sqrt\":\n",
        "      a = toLatex(x[1])\n",
        "      return \"\\\\sqrt{\" + a + \"}\"\n",
        "\n",
        "    if x[0] == \"ln\":\n",
        "      a = toLatex(x[1])\n",
        "      if isinstance(x[1], list):\n",
        "        a = \"\\\\left(\" + a + \"\\\\right)\"\n",
        "      return \"\\\\ln{\" + a + \"}\"\n",
        "\n",
        "    if x[0] == \"lg\":\n",
        "      a = toLatex(x[1])\n",
        "      if isinstance(x[1], list):\n",
        "        a = \"\\\\left(\" + a + \"\\\\right)\"\n",
        "      return \"\\\\lg{\" + a + \"}\"\n",
        "\n",
        "    if x[0] == \"sin\":\n",
        "      a = toLatex(x[1])\n",
        "      if isinstance(x[1], list):\n",
        "        a = \"\\\\left(\" + a + \"\\\\right)\"\n",
        "      return \"\\\\sin{\" + a + \"}\"\n",
        "\n",
        "    if x[0] == \"cos\":\n",
        "      a = toLatex(x[1])\n",
        "      if isinstance(x[1], list):\n",
        "        a = \"\\\\left(\" + a + \"\\\\right)\"\n",
        "      return \"\\\\cos{\" + a + \"}\"\n",
        "\n",
        "    if x[0] == \"tan\":\n",
        "      a = toLatex(x[1])\n",
        "      if isinstance(x[1], list):\n",
        "        a = \"\\\\left(\" + a + \"\\\\right)\"\n",
        "      return \"\\\\tan{\" + a + \"}\"\n",
        "\n",
        "    if x[0] == \"arcsin\":\n",
        "      a = toLatex(x[1])\n",
        "      if isinstance(x[1], list):\n",
        "        a = \"\\\\left(\" + a + \"\\\\right)\"\n",
        "      return \"\\\\arcsin{\" + a + \"}\"\n",
        "\n",
        "    if x[0] == \"arccos\":\n",
        "      a = toLatex(x[1])\n",
        "      if isinstance(x[1], list):\n",
        "        a = \"\\\\left(\" + a + \"\\\\right)\"\n",
        "      return \"\\\\arccos{\" + a + \"}\"\n",
        "\n",
        "    if x[0] == \"arctan\":\n",
        "      a = toLatex(x[1])\n",
        "      if isinstance(x[1], list):\n",
        "        a = \"\\\\left(\" + a + \"\\\\right)\"\n",
        "      return \"\\\\arctan{\" + a + \"}\"\n",
        "\n",
        "    if x[0] == \"sh\":\n",
        "      a = toLatex(x[1])\n",
        "      if isinstance(x[1], list):\n",
        "        a = \"\\\\left(\" + a + \"\\\\right)\"\n",
        "      return \"\\\\sh{\" + a + \"}\"\n",
        "\n",
        "    if x[0] == \"ch\":\n",
        "      a = toLatex(x[1])\n",
        "      if isinstance(x[1], list):\n",
        "        a = \"\\\\left(\" + a + \"\\\\right)\"\n",
        "      return \"\\\\ch{\" + a + \"}\"\n",
        "\n",
        "    if x[0] == \"th\":\n",
        "      a = toLatex(x[1])\n",
        "      if isinstance(x[1], list):\n",
        "        a = \"\\\\left(\" + a + \"\\\\right)\"\n",
        "      return \"\\\\th{\" + a + \"}\"\n",
        "\n",
        "    if x[0] == \"int\":\n",
        "      a = toLatex(x[1])\n",
        "      if isinstance(x[1], list) and x[1][0] in \"+-\":\n",
        "        a = \"\\\\left(\" + a + \"\\\\right)\"\n",
        "      return \"\\\\int{\" + a + \"}d\" + x[2]"
      ],
      "execution_count": 9,
      "outputs": []
    },
    {
      "cell_type": "code",
      "metadata": {
        "id": "QUcAldqbQfeS"
      },
      "source": [
        "def differentiate(f, x):\n",
        "  if isinstance(f, int):\n",
        "    return 0\n",
        "  if f == x:\n",
        "    return 1\n",
        "  if isinstance(f, str):\n",
        "    return 0\n",
        "  if isinstance(f, list):\n",
        "    if f[0] == \"+\":\n",
        "      u, v = f[1], f[2]\n",
        "      u1, v1 = differentiate(u, x), differentiate(v, x)\n",
        "      return add(u1, v1)\n",
        "\n",
        "    if f[0] == \"-\":\n",
        "      u, v = f[1], f[2]\n",
        "      u1, v1 = differentiate(u, x), differentiate(v, x)\n",
        "      return sub(u1, v1)\n",
        "\n",
        "    if f[0] == \"*\":\n",
        "      u, v = f[1], f[2]\n",
        "      u1, v1 = differentiate(u, x), differentiate(v, x)\n",
        "      return add(mul(u1, v), mul(u, v1))\n",
        "\n",
        "    if f[0] == \"/\":\n",
        "      u, v = f[1], f[2]\n",
        "      u1, v1 = differentiate(u, x), differentiate(v, x)\n",
        "      return div(sub(mul(u1, v), mul(u, v1)), pow(v, 2))\n",
        "\n",
        "    if f[0] == \"^\":\n",
        "      u, v = f[1], f[2]\n",
        "      u1, v1 = differentiate(u, x), differentiate(v, x)\n",
        "      p1, p2 = pow(u, v), pow(u, sub(v, 1))\n",
        "      s1 = mul(p1, mul(v1, fln(u)))\n",
        "      s2 = mul(v, mul(p2, u1))\n",
        "      return add(s1, s2) \n",
        "\n",
        "    if f[0] == \"sqrt\":\n",
        "      u = f[1]\n",
        "      u1 = differentiate(u, x)\n",
        "      return div(u1, mul(2, fsqrt(u)))\n",
        "\n",
        "    if f[0] == \"ln\":\n",
        "      u = f[1]\n",
        "      u1 = differentiate(u, x)\n",
        "      return div(u1, u)\n",
        "      \n",
        "    if f[0] == \"lg\":\n",
        "      u = f[1]\n",
        "      u1 = differentiate(u, x)\n",
        "      return div(u1, flg(u))\n",
        "\n",
        "    if f[0] == \"sin\":\n",
        "      u = f[1]\n",
        "      u1 = differentiate(u, x)\n",
        "      return mul(fcos(u), u1)\n",
        "\n",
        "    if f[0] == \"cos\":\n",
        "      u = f[1]\n",
        "      u1 = differentiate(u, x)\n",
        "      return mul(neg(fsin(u)), u1)\n",
        "\n",
        "    if f[0] == \"tan\":\n",
        "      u = f[1]\n",
        "      u1 = differentiate(u, x)\n",
        "      return mul(u1, div(1, pow(fcos(u), 2)))\n",
        "\n",
        "    if f[0] == \"arcsin\":\n",
        "      u = f[1]\n",
        "      u1 = differentiate(u, x)\n",
        "      return div(u1, fsqrt(sub(1, pow(u, 2))))\n",
        "\n",
        "    if f[0] == \"arccos\":\n",
        "      u = f[1]\n",
        "      u1 = differentiate(u, x)\n",
        "      return div(neg(u1), fsqrt(sub(1, pow(u, 2))))\n",
        "\n",
        "    if f[0] == \"arctan\":\n",
        "      u = f[1]\n",
        "      u1 = differentiate(u, x)\n",
        "      return div(u1, fsqrt(add(1, pow(u, 2))))\n",
        "\n",
        "    if f[0] == \"sh\":\n",
        "      u = f[1]\n",
        "      u1 = differentiate(u, x)\n",
        "      return mul(u1, fch(u))\n",
        "\n",
        "    if f[0] == \"ch\":\n",
        "      u = f[1]\n",
        "      u1 = differentiate(u, x)\n",
        "      return mul(u1, fch(u))\n",
        "\n",
        "    if f[0] == \"th\":\n",
        "      u = f[1]\n",
        "      u1 = differentiate(u, x)\n",
        "      return div(u1, fch(pow(u, 2)))\n",
        "\n",
        "    if f[0] == \"--\":\n",
        "      u = f[1]\n",
        "      u1 = differentiate(u, x)\n",
        "      return neg(u1)"
      ],
      "execution_count": 10,
      "outputs": []
    },
    {
      "cell_type": "code",
      "metadata": {
        "id": "wWjiuNn0QfVS"
      },
      "source": [
        "def symbols(vars):\n",
        "  return map(Expression, vars.split())\n",
        "\n",
        "x, y = symbols(\"x y\")"
      ],
      "execution_count": 11,
      "outputs": []
    },
    {
      "cell_type": "code",
      "metadata": {
        "colab": {
          "base_uri": "https://localhost:8080/",
          "height": 36
        },
        "id": "CpI9prB1QkST",
        "outputId": "8e64a3f1-f74b-4507-f7a5-9d746b360d35"
      },
      "source": [
        "\n",
        "z = x + 1 - x\n",
        "z.diff(x).show()"
      ],
      "execution_count": 12,
      "outputs": [
        {
          "output_type": "display_data",
          "data": {
            "text/latex": "$$1+0-1$$",
            "text/plain": [
              "<IPython.core.display.Math object>"
            ]
          },
          "metadata": {
            "tags": []
          }
        }
      ]
    },
    {
      "cell_type": "code",
      "metadata": {
        "colab": {
          "base_uri": "https://localhost:8080/",
          "height": 37
        },
        "id": "FDn8kIeiQkMp",
        "outputId": "9b934ca4-f715-4a49-fc61-d422612cc2d5"
      },
      "source": [
        "z = 2 * x\n",
        "z.diff(x).show()"
      ],
      "execution_count": 13,
      "outputs": [
        {
          "output_type": "display_data",
          "data": {
            "text/latex": "$$0\\cdot x+2\\cdot 1$$",
            "text/plain": [
              "<IPython.core.display.Math object>"
            ]
          },
          "metadata": {
            "tags": []
          }
        }
      ]
    },
    {
      "cell_type": "code",
      "metadata": {
        "colab": {
          "base_uri": "https://localhost:8080/",
          "height": 51
        },
        "id": "YjVCAGYeQkGr",
        "outputId": "26575386-a625-4d53-97ba-13a3bb597c27"
      },
      "source": [
        "\n",
        "z = 2 / x\n",
        "z.diff(x).show()"
      ],
      "execution_count": 14,
      "outputs": [
        {
          "output_type": "display_data",
          "data": {
            "text/latex": "$$\\dfrac{0\\cdot x-2\\cdot 1}{{x}^{2}}$$",
            "text/plain": [
              "<IPython.core.display.Math object>"
            ]
          },
          "metadata": {
            "tags": []
          }
        }
      ]
    },
    {
      "cell_type": "code",
      "metadata": {
        "colab": {
          "base_uri": "https://localhost:8080/",
          "height": 37
        },
        "id": "jOTduSkOQpNq",
        "outputId": "c8206df1-9a31-47a5-d69d-c79356e43be7"
      },
      "source": [
        "z = x ** 2\n",
        "z.diff(x).show()"
      ],
      "execution_count": 15,
      "outputs": [
        {
          "output_type": "display_data",
          "data": {
            "text/latex": "$${x}^{2}\\cdot 0\\cdot \\ln{x}+2\\cdot {x}^{2-1}\\cdot 1$$",
            "text/plain": [
              "<IPython.core.display.Math object>"
            ]
          },
          "metadata": {
            "tags": []
          }
        }
      ]
    },
    {
      "cell_type": "code",
      "metadata": {
        "colab": {
          "base_uri": "https://localhost:8080/",
          "height": 38
        },
        "id": "49UfarN3QpH_",
        "outputId": "2e51071a-3af1-4984-f1fb-c5f5104ff75a"
      },
      "source": [
        "\n",
        "z = (x + 1) ** x\n",
        "z.diff(x).show()"
      ],
      "execution_count": 16,
      "outputs": [
        {
          "output_type": "display_data",
          "data": {
            "text/latex": "$${\\left(x+1\\right)}^{x}\\cdot 1\\cdot \\ln{\\left(x+1\\right)}+x\\cdot {\\left(x+1\\right)}^{x-1}\\cdot \\left(1+0\\right)$$",
            "text/plain": [
              "<IPython.core.display.Math object>"
            ]
          },
          "metadata": {
            "tags": []
          }
        }
      ]
    },
    {
      "cell_type": "code",
      "metadata": {
        "colab": {
          "base_uri": "https://localhost:8080/",
          "height": 55
        },
        "id": "1koGTy9fQs8i",
        "outputId": "d6ef009f-0e8b-47e6-e70f-46346d34376b"
      },
      "source": [
        "z = sqrt(x)\n",
        "z.diff(x).show()"
      ],
      "execution_count": 17,
      "outputs": [
        {
          "output_type": "display_data",
          "data": {
            "text/latex": "$$\\dfrac{1}{2\\cdot \\sqrt{x}}$$",
            "text/plain": [
              "<IPython.core.display.Math object>"
            ]
          },
          "metadata": {
            "tags": []
          }
        }
      ]
    },
    {
      "cell_type": "code",
      "metadata": {
        "colab": {
          "base_uri": "https://localhost:8080/",
          "height": 52
        },
        "id": "OYB6KtZBQs4c",
        "outputId": "21251e2b-0ac0-4a29-f34a-ce4ae428b7a0"
      },
      "source": [
        "z = ln(x + 1)\n",
        "z.diff(x).show()"
      ],
      "execution_count": 18,
      "outputs": [
        {
          "output_type": "display_data",
          "data": {
            "text/latex": "$$\\dfrac{1+0}{x+1}$$",
            "text/plain": [
              "<IPython.core.display.Math object>"
            ]
          },
          "metadata": {
            "tags": []
          }
        }
      ]
    },
    {
      "cell_type": "code",
      "metadata": {
        "colab": {
          "base_uri": "https://localhost:8080/",
          "height": 55
        },
        "id": "re-s9vBXQvll",
        "outputId": "198f9990-fe76-401b-ce6d-0f8800699f84"
      },
      "source": [
        "z = lg(x + 2)\n",
        "z.diff(x).show()"
      ],
      "execution_count": 19,
      "outputs": [
        {
          "output_type": "display_data",
          "data": {
            "text/latex": "$$\\dfrac{1+0}{\\lg{\\left(x+2\\right)}}$$",
            "text/plain": [
              "<IPython.core.display.Math object>"
            ]
          },
          "metadata": {
            "tags": []
          }
        }
      ]
    },
    {
      "cell_type": "code",
      "metadata": {
        "colab": {
          "base_uri": "https://localhost:8080/",
          "height": 57
        },
        "id": "KVk9ueIXQvhb",
        "outputId": "afc1afa7-02ec-42f2-eb28-39dbf6eaea04"
      },
      "source": [
        "z = tan(x)\n",
        "z.diff(x).show()"
      ],
      "execution_count": 20,
      "outputs": [
        {
          "output_type": "display_data",
          "data": {
            "text/latex": "$$1\\cdot \\dfrac{1}{{\\left(\\cos{x}\\right)}^{2}}$$",
            "text/plain": [
              "<IPython.core.display.Math object>"
            ]
          },
          "metadata": {
            "tags": []
          }
        }
      ]
    },
    {
      "cell_type": "code",
      "metadata": {
        "id": "S-hl_KUlQvbj"
      },
      "source": [
        "def normalize(self):\n",
        "  z, n = abs(self.z), self.n\n",
        "  while z % n != 0:\n",
        "      z, n = n, z % n\n",
        "  self.z //= n\n",
        "  self.n //= n"
      ],
      "execution_count": 21,
      "outputs": []
    },
    {
      "cell_type": "code",
      "metadata": {
        "id": "t4lE0gPWQzku"
      },
      "source": [
        "def simplify(f):\n",
        "  if isinstance(f, list):\n",
        "    r = [f[0]]\n",
        "    for x in f[1:]:\n",
        "      r.append(simplify(x))\n",
        "\n",
        "    if r[0] == \"+\":\n",
        "      if isinstance(r[1], int) and isinstance(r[2], int):\n",
        "        return r[1] + r[2] \n",
        "      if r[1] == 0: \n",
        "        r[1].normalize()\n",
        "        return r[2]\n",
        "      if r[2] == 0:\n",
        "        return r[1]\n",
        "      if r[1] == r[2]:\n",
        "        return mul(2, r[1])\n",
        "      if isinstance(r[2], list) and r[2][0] == \"--\":\n",
        "        return simplify(sub(r[1], r[2][1]))\n",
        "\n",
        "    if r[0] == \"-\":\n",
        "      if isinstance(r[1], int) and isinstance(r[2], int):\n",
        "        return r[1] - r[2]\n",
        "      if r[1] == 0: \n",
        "        return neg(r[2])\n",
        "      if r[2] == 0:\n",
        "        return r[1]\n",
        "      if r[1] == r[2]:\n",
        "        return 0\n",
        "      if isinstance(r[2], list) and r[2][0] == \"--\":\n",
        "        return simplify(add(r[1], r[2][1]))\n",
        "\n",
        "    if r[0] == \"*\":\n",
        "      if isinstance(r[1], int) and isinstance(r[2], int):\n",
        "        return r[1] * r[2] \n",
        "      if r[1] == 0 or r[2] == 0: \n",
        "        return 0\n",
        "      if r[1] == 1:\n",
        "        return r[2]\n",
        "      if r[2] == 1:\n",
        "        return r[1]\n",
        "      if r[1] == r[2]:\n",
        "        return pow(r[1], 2)\n",
        "      if isinstance(r[2], list) and r[2][0] == \"--\":\n",
        "        return simplify(neg(mul(r[1], r[2][1])))\n",
        "\n",
        "    if r[0] == \"/\":\n",
        "      if r[2] == 0:\n",
        "        return \"Division by zero\"\n",
        "      if isinstance(r[1], int) and isinstance(r[2], int):\n",
        "        return r[1] / r[2]  \n",
        "      if r[1] == 0: \n",
        "        return 0\n",
        "      if r[2] == 1:\n",
        "        return r[1]\n",
        "      if r[1] == r[2]:\n",
        "        return 1\n",
        "    if isinstance(r[2], list) and r[2][0] == \"--\":\n",
        "      return simplify(neg(div(r[1], r[2][1])))\n",
        "\n",
        "    if r[0] == \"^\":\n",
        "      if isinstance(r[1], int) and isinstance(r[2], int) and r[2] > 0:\n",
        "        return r[1] ** r[2] \n",
        "      if r[2] == 1: \n",
        "        return r[1]\n",
        "\n",
        "    if r[0] == \"sqrt\":\n",
        "      if isinstance(r[1], int):\n",
        "        a = int(math.sqrt(r[1]))\n",
        "        if a * a == r[1]:\n",
        "          return a\n",
        "        return r \n",
        "    return r\n",
        "\n",
        "  return f"
      ],
      "execution_count": 22,
      "outputs": []
    },
    {
      "cell_type": "code",
      "metadata": {
        "id": "tyhq4e06Qzim"
      },
      "source": [
        "def expand(f):\n",
        "  if isinstance(f, list):\n",
        "    r = [f[0]]\n",
        "    for x in f[1:]:\n",
        "      r.append(expand(x))\n",
        "    if r[0] == \"*\":\n",
        "      if isinstance(r[1], list) and r[1][0] == \"+\":\n",
        "        a = expand(mul(r[1][1], r[2]))\n",
        "        b = expand(mul(r[1][2], r[2]))\n",
        "        return add(a, b)\n",
        "      if isinstance(r[2], list) and r[2][0] == \"+\":\n",
        "        a = expand(mul(r[1], r[2][1]))\n",
        "        b = expand(mul(r[1], r[2][2]))\n",
        "        return add(a, b)\n",
        "    if r[0] == \"^\":\n",
        "      if isinstance(r[1], list) and r[1][0] == \"+\" and r[2] == 2:\n",
        "        a = pow(r[1][1], 2)\n",
        "        b = mul(2, mul(r[1][1], r[1][2]))\n",
        "        c = pow(r[1][2], 2)\n",
        "        return add(a, add(b, c))\n",
        "    return r\n",
        "  return f"
      ],
      "execution_count": 23,
      "outputs": []
    },
    {
      "cell_type": "code",
      "metadata": {
        "id": "X8swrFLHQzgP"
      },
      "source": [
        "z = x + (-x)\n",
        "#z.show()\n",
        "#z.simp().show()"
      ],
      "execution_count": 24,
      "outputs": []
    },
    {
      "cell_type": "code",
      "metadata": {
        "id": "-rA6MClkQ5DB"
      },
      "source": [
        "def integral(f, x):\n",
        "  return [\"int\", f, x]\n",
        "\n",
        "def contains(f, x):\n",
        "  if f == x:\n",
        "    return True\n",
        "\n",
        "  if isinstance(f, (int, str)):\n",
        "    return False\n",
        "\n",
        "  if isinstance(f, list):\n",
        "    for a in f:\n",
        "      if contains(a, x):\n",
        "        return True\n",
        "        \n",
        "  return False\n",
        "\n",
        "def integrate(f, x):\n",
        "  if not contains(f, x):\n",
        "    return mul(f, x)\n",
        "\n",
        "  if f == x:\n",
        "    return mul(div(1, 2), pow(x, 2))\n",
        "\n",
        "  if isinstance(f, list):\n",
        "    if f[0] == \"cos\" and f[1] == x:\n",
        "      return fsin(x)\n",
        "    if f[0] == \"sin\" and f[1] == x:\n",
        "      return neg(fcos(x))\n",
        "    if f[0] == \"sqrt\" and f[1] == x:\n",
        "      return mul(div(2, 3), mul(x, fsqrt(x)))\n",
        "    if f[0] == \"^\" and f[1] == x and not contains(f[2], x):\n",
        "      if f[2] == -1:\n",
        "        return fln(x)\n",
        "      else:\n",
        "        return mul(div(1, add(f[2], 1)), pow(x, add(f[2], 1))) \n",
        "    if f[0] == \"^\" and f[2] == x and not contains(f[1], x):\n",
        "      return mul(div(1, fln(f[1])), f)\n",
        "    if f[0] in \"+-\":\n",
        "      a = integrate(f[1], x)\n",
        "      b = integrate(f[2], x)\n",
        "      return [f[0], a, b]\n",
        "    if f[0] == \"*\" and not contains(f[1], x):\n",
        "      a = integrate(f[2], x)\n",
        "      return mul(f[1], a)\n",
        "    if f[0] == \"*\" and not contains(f[2], x):\n",
        "      a = integrate(f[1], x)\n",
        "      return mul(f[2], a)\n",
        "    if f[0] == \"/\" and not contains(f[2], x):\n",
        "      a = integrate(f[1], x)\n",
        "      return mul(div(1, f[2]), a)\n",
        "    if f[0] == \"*\" and f[1] == x:\n",
        "      t = x + \"t\"\n",
        "      g = substitute(f[2], pow(x, 2), t)\n",
        "      if not contains(g, x):\n",
        "        G = integrate(g, t)\n",
        "        if not contains(G, \"int\"): \n",
        "          F = substitute(G, t, pow(x, 2))\n",
        "          return mul(div(1, 2), F)\n",
        "\n",
        "    if f[0] == \"/\" and f[2] == x:\n",
        "      return fln(x)\n",
        "\n",
        "    if f[0] == \"/\" and isinstance(f[2], list):\n",
        "      if f[2][0] == \"^\" and f[2][2] == 2:\n",
        "        if f[2][1] == \"sin\":\n",
        "          return neg(fctan(x))\n",
        "        if f[2][1] == \"cos\":\n",
        "          return ftan(x)\n",
        "\n",
        "  return integral(f, x)"
      ],
      "execution_count": 25,
      "outputs": []
    },
    {
      "cell_type": "code",
      "metadata": {
        "colab": {
          "base_uri": "https://localhost:8080/",
          "height": 37
        },
        "id": "A9bprVOVQ7Us",
        "outputId": "822a17d8-1047-48a2-c98b-30daa5447bc5"
      },
      "source": [
        "z = cos(x)\n",
        "z.intg(x).show()"
      ],
      "execution_count": 26,
      "outputs": [
        {
          "output_type": "display_data",
          "data": {
            "text/latex": "$$\\sin{x}$$",
            "text/plain": [
              "<IPython.core.display.Math object>"
            ]
          },
          "metadata": {
            "tags": []
          }
        }
      ]
    },
    {
      "cell_type": "code",
      "metadata": {
        "colab": {
          "base_uri": "https://localhost:8080/",
          "height": 37
        },
        "id": "xVWI91eLQ7Ob",
        "outputId": "301c8ce6-8f5d-47b7-f53a-22a626f89537"
      },
      "source": [
        "(1/x).intg(x).show()"
      ],
      "execution_count": 27,
      "outputs": [
        {
          "output_type": "display_data",
          "data": {
            "text/latex": "$$\\ln{x}$$",
            "text/plain": [
              "<IPython.core.display.Math object>"
            ]
          },
          "metadata": {
            "tags": []
          }
        }
      ]
    },
    {
      "cell_type": "code",
      "metadata": {
        "colab": {
          "base_uri": "https://localhost:8080/",
          "height": 51
        },
        "id": "K0Hf4-a0Q9-g",
        "outputId": "3542f244-ce2a-41f0-d3d5-7d96e9a59d9c"
      },
      "source": [
        "(2**x).intg(x).show()"
      ],
      "execution_count": 28,
      "outputs": [
        {
          "output_type": "display_data",
          "data": {
            "text/latex": "$$\\dfrac{1}{\\ln{2}}\\cdot {2}^{x}$$",
            "text/plain": [
              "<IPython.core.display.Math object>"
            ]
          },
          "metadata": {
            "tags": []
          }
        }
      ]
    },
    {
      "cell_type": "code",
      "metadata": {
        "colab": {
          "base_uri": "https://localhost:8080/"
        },
        "id": "ziDhIUaoQ91z",
        "outputId": "8d0f9eec-0a65-479d-ebbb-69bf86ad650f"
      },
      "source": [
        "z=1/sqrt(2**2-x**2)\n",
        "z.f"
      ],
      "execution_count": 29,
      "outputs": [
        {
          "output_type": "execute_result",
          "data": {
            "text/plain": [
              "['/', 1, ['sqrt', ['-', 4, ['^', 'x', 2]]]]"
            ]
          },
          "metadata": {
            "tags": []
          },
          "execution_count": 29
        }
      ]
    },
    {
      "cell_type": "code",
      "metadata": {
        "id": "DRhCaXgpQ9yD"
      },
      "source": [
        ""
      ],
      "execution_count": 29,
      "outputs": []
    }
  ]
}